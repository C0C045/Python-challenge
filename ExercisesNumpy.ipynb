{
  "nbformat": 4,
  "nbformat_minor": 0,
  "metadata": {
    "colab": {
      "name": "ExercisesNumpy.ipynb",
      "provenance": [],
      "collapsed_sections": [],
      "authorship_tag": "ABX9TyOGAKFD0uTMOpMCbfQas5Du",
      "include_colab_link": true
    },
    "kernelspec": {
      "name": "python3",
      "display_name": "Python 3"
    },
    "language_info": {
      "name": "python"
    }
  },
  "cells": [
    {
      "cell_type": "markdown",
      "metadata": {
        "id": "view-in-github",
        "colab_type": "text"
      },
      "source": [
        "<a href=\"https://colab.research.google.com/github/C0C045/Python-challenge/blob/main/ExercisesNumpy.ipynb\" target=\"_parent\"><img src=\"https://colab.research.google.com/assets/colab-badge.svg\" alt=\"Open In Colab\"/></a>"
      ]
    },
    {
      "cell_type": "markdown",
      "metadata": {
        "id": "NUyMXnFjMEbu"
      },
      "source": [
        "### Exercise 1"
      ]
    },
    {
      "cell_type": "code",
      "metadata": {
        "colab": {
          "base_uri": "https://localhost:8080/"
        },
        "id": "8EZNgbwWEXN9",
        "outputId": "36249a46-16e5-4785-fdbe-f09d011e407e"
      },
      "source": [
        "import numpy as np\n",
        "\n",
        "\n",
        "A = np.array([[3, 2, 1, 4],\n",
        "              [5, 2, 1, 6]])\n",
        "\n",
        "B = np.array([[3, 2, 1, 4],\n",
        "              [5, 2, 0, 6]])\n",
        "\n",
        "C = np.array([[True, False, False],\n",
        "              [True, True, True]])\n",
        "\n",
        "D = np.array([0.1, 0.3])\n",
        "\n",
        "for name, array in zip(list('ABCD'), [A, B, C, D]):\n",
        "    print(f'{name}: {np.all(array)}')"
      ],
      "execution_count": null,
      "outputs": [
        {
          "output_type": "stream",
          "name": "stdout",
          "text": [
            "A: True\n",
            "B: False\n",
            "C: False\n",
            "D: True\n"
          ]
        }
      ]
    },
    {
      "cell_type": "markdown",
      "metadata": {
        "id": "TEcfK8kJMQer"
      },
      "source": [
        "### Exercise 2"
      ]
    },
    {
      "cell_type": "code",
      "metadata": {
        "colab": {
          "base_uri": "https://localhost:8080/"
        },
        "id": "6Y1pwu3tMY6P",
        "outputId": "8bd9e538-4e2e-4310-9620-cb66b4c69efb"
      },
      "source": [
        "A = np.array([[3, 2, 1, 4],\n",
        "              [5, 2, 1, 6]])\n",
        "\n",
        "B = np.array([[3, 2, 1, 4],\n",
        "              [5, 2, 0, 6]])\n",
        "\n",
        "C = np.array([[True, False, False],\n",
        "              [True, True, True]])\n",
        "\n",
        "for name, array in zip(list('ABC'), [A, B, C]):\n",
        "    print(f'{name}: {np.all(array,axis=1)}')"
      ],
      "execution_count": null,
      "outputs": [
        {
          "output_type": "stream",
          "name": "stdout",
          "text": [
            "A: [ True  True]\n",
            "B: [ True False]\n",
            "C: [False  True]\n"
          ]
        }
      ]
    },
    {
      "cell_type": "markdown",
      "metadata": {
        "id": "67Nqq5BITQzE"
      },
      "source": [
        "###Exercise 3"
      ]
    },
    {
      "cell_type": "code",
      "metadata": {
        "colab": {
          "base_uri": "https://localhost:8080/"
        },
        "id": "vHhsDHS1TTaC",
        "outputId": "f7f7bf17-283d-4640-9089-c1c305d789a8"
      },
      "source": [
        "A = np.array([[0, 0, 0],\n",
        "              [0, 0, 0]])\n",
        "\n",
        "B = np.array([[0, 0, 0],\n",
        "              [0, 1, 0]])\n",
        "\n",
        "C = np.array([[False, False, False],\n",
        "              [True, False, False]])\n",
        "\n",
        "D = np.array([[0.1, 0.0]])\n",
        "\n",
        "for name, array in zip(list('ABCD'), [A, B, C, D]):\n",
        "    print(f'{name}: {np.any(array)}')"
      ],
      "execution_count": null,
      "outputs": [
        {
          "output_type": "stream",
          "name": "stdout",
          "text": [
            "A: False\n",
            "B: True\n",
            "C: True\n",
            "D: True\n"
          ]
        }
      ]
    },
    {
      "cell_type": "markdown",
      "metadata": {
        "id": "QjZrakPhCUVC"
      },
      "source": [
        "###Exercise 4"
      ]
    },
    {
      "cell_type": "code",
      "metadata": {
        "colab": {
          "base_uri": "https://localhost:8080/"
        },
        "id": "n9LSHN9ZCYi6",
        "outputId": "aeb3bcd3-7221-43e8-8fb3-391fe2edf383"
      },
      "source": [
        "A = np.array([[0, 0, 0],\n",
        "              [0, 0, 0]])\n",
        "\n",
        "B = np.array([[0, 0, 0],\n",
        "              [0, 1, 0]])\n",
        "\n",
        "C = np.array([[False, False, False],\n",
        "              [True, False, False]])\n",
        "\n",
        "D = np.array([[0.1, 0.0]])\n",
        "\n",
        "for name, array in zip(list('ABCD'), [A, B, C, D]):\n",
        "    print(f'{name}: {np.any(array, axis=0)}')"
      ],
      "execution_count": null,
      "outputs": [
        {
          "output_type": "stream",
          "name": "stdout",
          "text": [
            "A: [False False False]\n",
            "B: [False  True False]\n",
            "C: [ True False False]\n",
            "D: [ True False]\n"
          ]
        }
      ]
    },
    {
      "cell_type": "markdown",
      "metadata": {
        "id": "zm5yoY9_sUCe"
      },
      "source": [
        "###Exercise 5"
      ]
    },
    {
      "cell_type": "code",
      "metadata": {
        "colab": {
          "base_uri": "https://localhost:8080/"
        },
        "id": "R7akOF4XsX0s",
        "outputId": "efab33c9-876a-4f9a-deaa-1ddab0d859bd"
      },
      "source": [
        "A = np.array([[3, 2, 1, np.nan],\n",
        "              [5, np.nan, 1, 6]])\n",
        "\n",
        "print(np.isnan(A))"
      ],
      "execution_count": null,
      "outputs": [
        {
          "output_type": "stream",
          "name": "stdout",
          "text": [
            "[[False False False  True]\n",
            " [False  True False False]]\n"
          ]
        }
      ]
    },
    {
      "cell_type": "markdown",
      "metadata": {
        "id": "lipie0Mxttcf"
      },
      "source": [
        "###Exercise 6"
      ]
    },
    {
      "cell_type": "code",
      "metadata": {
        "colab": {
          "base_uri": "https://localhost:8080/"
        },
        "id": "p1uWryMutwHC",
        "outputId": "493d3ea3-00ab-499e-ac35-27b8776f9ace"
      },
      "source": [
        "A = np.array([0.4, 0.5, 0.3])\n",
        "B = np.array([0.39999999, 0.5000001, 0.3])\n",
        "\n",
        "print(np.allclose(A,B))"
      ],
      "execution_count": null,
      "outputs": [
        {
          "output_type": "stream",
          "name": "stdout",
          "text": [
            "True\n"
          ]
        }
      ]
    },
    {
      "cell_type": "markdown",
      "metadata": {
        "id": "j_uBBubKuMpk"
      },
      "source": [
        "###Exercise 7"
      ]
    },
    {
      "cell_type": "code",
      "metadata": {
        "colab": {
          "base_uri": "https://localhost:8080/"
        },
        "id": "Um84ufzsuQMF",
        "outputId": "8afd24d2-d4aa-439b-9458-a781c2ed7e4b"
      },
      "source": [
        "A = np.array([0.4, 0.5, 0.3])\n",
        "B = np.array([0.3999999999, 0.5000000001, 0.3])\n",
        "\n",
        "print(A == B)"
      ],
      "execution_count": null,
      "outputs": [
        {
          "output_type": "stream",
          "name": "stdout",
          "text": [
            "[False False  True]\n",
            "[False False  True]\n"
          ]
        }
      ]
    },
    {
      "cell_type": "markdown",
      "metadata": {
        "id": "UP2q9BU3mbCF"
      },
      "source": [
        "###Exercise 8"
      ]
    },
    {
      "cell_type": "code",
      "metadata": {
        "colab": {
          "base_uri": "https://localhost:8080/"
        },
        "id": "bS9trfmimdgK",
        "outputId": "b0e5c03a-d9ba-458e-eb15-fb4f4440026e"
      },
      "source": [
        "A = np.array([0.4, 0.5, 0.3, 0.9])\n",
        "B = np.array([0.38, 0.51, 0.3, 0.91])\n",
        "\n",
        "print(A>B)"
      ],
      "execution_count": null,
      "outputs": [
        {
          "output_type": "stream",
          "name": "stdout",
          "text": [
            "[ True False False False]\n"
          ]
        }
      ]
    },
    {
      "cell_type": "markdown",
      "metadata": {
        "id": "WF2_2mcjnxWB"
      },
      "source": [
        "###Exercise 9"
      ]
    },
    {
      "cell_type": "code",
      "metadata": {
        "colab": {
          "base_uri": "https://localhost:8080/"
        },
        "id": "ZNh123scnzzq",
        "outputId": "8ee4c774-1949-4159-ddef-d379caf164b9"
      },
      "source": [
        "print(np.zeros((4,4), int))"
      ],
      "execution_count": null,
      "outputs": [
        {
          "output_type": "stream",
          "name": "stdout",
          "text": [
            "[[0 0 0 0]\n",
            " [0 0 0 0]\n",
            " [0 0 0 0]\n",
            " [0 0 0 0]]\n"
          ]
        }
      ]
    },
    {
      "cell_type": "markdown",
      "metadata": {
        "id": "q-ZuGoJWoify"
      },
      "source": [
        "#Exercise 10"
      ]
    },
    {
      "cell_type": "code",
      "metadata": {
        "colab": {
          "base_uri": "https://localhost:8080/"
        },
        "id": "Sxy7JHO1olkS",
        "outputId": "95155b43-9d59-47d2-dd3d-388aa1f83a93"
      },
      "source": [
        "print(np.full((10,10), 255, float)) #O con np.ones((10,10), float)*255"
      ],
      "execution_count": null,
      "outputs": [
        {
          "output_type": "stream",
          "name": "stdout",
          "text": [
            "[[255. 255. 255. 255. 255. 255. 255. 255. 255. 255.]\n",
            " [255. 255. 255. 255. 255. 255. 255. 255. 255. 255.]\n",
            " [255. 255. 255. 255. 255. 255. 255. 255. 255. 255.]\n",
            " [255. 255. 255. 255. 255. 255. 255. 255. 255. 255.]\n",
            " [255. 255. 255. 255. 255. 255. 255. 255. 255. 255.]\n",
            " [255. 255. 255. 255. 255. 255. 255. 255. 255. 255.]\n",
            " [255. 255. 255. 255. 255. 255. 255. 255. 255. 255.]\n",
            " [255. 255. 255. 255. 255. 255. 255. 255. 255. 255.]\n",
            " [255. 255. 255. 255. 255. 255. 255. 255. 255. 255.]\n",
            " [255. 255. 255. 255. 255. 255. 255. 255. 255. 255.]]\n"
          ]
        }
      ]
    },
    {
      "cell_type": "markdown",
      "metadata": {
        "id": "-jdcXYIUqTcW"
      },
      "source": [
        "###Exercise 11"
      ]
    },
    {
      "cell_type": "code",
      "metadata": {
        "colab": {
          "base_uri": "https://localhost:8080/"
        },
        "id": "ITeWWd0gqWJY",
        "outputId": "a34c6444-69ae-48f3-882d-0d2b2ed4f1e8"
      },
      "source": [
        "print(np.arange(10,100))"
      ],
      "execution_count": null,
      "outputs": [
        {
          "output_type": "stream",
          "name": "stdout",
          "text": [
            "[10 11 12 13 14 15 16 17 18 19 20 21 22 23 24 25 26 27 28 29 30 31 32 33\n",
            " 34 35 36 37 38 39 40 41 42 43 44 45 46 47 48 49 50 51 52 53 54 55 56 57\n",
            " 58 59 60 61 62 63 64 65 66 67 68 69 70 71 72 73 74 75 76 77 78 79 80 81\n",
            " 82 83 84 85 86 87 88 89 90 91 92 93 94 95 96 97 98 99]\n"
          ]
        }
      ]
    },
    {
      "cell_type": "markdown",
      "metadata": {
        "id": "jwXLWrJWr-wu"
      },
      "source": [
        "###Exercise 12"
      ]
    },
    {
      "cell_type": "code",
      "metadata": {
        "colab": {
          "base_uri": "https://localhost:8080/"
        },
        "id": "GJFW6fSKsBlr",
        "outputId": "531a44b4-4b3a-4a70-80a9-08cf5baf023d"
      },
      "source": [
        "print(np.arange(10,100).reshape(9,10))"
      ],
      "execution_count": null,
      "outputs": [
        {
          "output_type": "stream",
          "name": "stdout",
          "text": [
            "[[10 11 12 13 14 15 16 17 18 19]\n",
            " [20 21 22 23 24 25 26 27 28 29]\n",
            " [30 31 32 33 34 35 36 37 38 39]\n",
            " [40 41 42 43 44 45 46 47 48 49]\n",
            " [50 51 52 53 54 55 56 57 58 59]\n",
            " [60 61 62 63 64 65 66 67 68 69]\n",
            " [70 71 72 73 74 75 76 77 78 79]\n",
            " [80 81 82 83 84 85 86 87 88 89]\n",
            " [90 91 92 93 94 95 96 97 98 99]]\n"
          ]
        }
      ]
    },
    {
      "cell_type": "markdown",
      "metadata": {
        "id": "KsLHFHRNtFGr"
      },
      "source": [
        "###Exercise 13"
      ]
    },
    {
      "cell_type": "code",
      "metadata": {
        "colab": {
          "base_uri": "https://localhost:8080/"
        },
        "id": "00SBusv7tKEX",
        "outputId": "069ea0b9-1f3e-46c1-ed83-7b9bf4acfb42"
      },
      "source": [
        "print(np.eye(6,dtype=int))"
      ],
      "execution_count": null,
      "outputs": [
        {
          "output_type": "stream",
          "name": "stdout",
          "text": [
            "[[1 0 0 0 0 0]\n",
            " [0 1 0 0 0 0]\n",
            " [0 0 1 0 0 0]\n",
            " [0 0 0 1 0 0]\n",
            " [0 0 0 0 1 0]\n",
            " [0 0 0 0 0 1]]\n"
          ]
        }
      ]
    },
    {
      "cell_type": "markdown",
      "metadata": {
        "id": "BGFXfJyNuFih"
      },
      "source": [
        "###Exercise 14"
      ]
    },
    {
      "cell_type": "code",
      "metadata": {
        "colab": {
          "base_uri": "https://localhost:8080/"
        },
        "id": "IOb2X8OruH4C",
        "outputId": "39bdf109-8e6e-42c7-af75-7aa7ac145f7e"
      },
      "source": [
        "print(np.random.rand(30))"
      ],
      "execution_count": null,
      "outputs": [
        {
          "output_type": "stream",
          "name": "stdout",
          "text": [
            "[0.66316841 0.21011042 0.84917522 0.39928012 0.22109328 0.99522292\n",
            " 0.34696261 0.45161447 0.41862908 0.61719573 0.86118274 0.64854144\n",
            " 0.11252138 0.37943791 0.95586328 0.33725561 0.05468636 0.4982989\n",
            " 0.53801594 0.12831282 0.21097033 0.92075951 0.33598384 0.46948043\n",
            " 0.15648178 0.61436647 0.30872606 0.90265434 0.20540045 0.55762028]\n"
          ]
        }
      ]
    },
    {
      "cell_type": "code",
      "metadata": {
        "colab": {
          "base_uri": "https://localhost:8080/"
        },
        "id": "Q7CYWJkwx_g6",
        "outputId": "2523e962-f73c-4029-cac1-483101fc1ea2"
      },
      "source": [
        "square = np.full((3,3),\" \", dtype=str)\n",
        "mark = \" \"\n",
        "print(\"¡El primer jugador es la X y el segundo la O!\")\n",
        "print(\"Forma de escribir las posiciones: Fila Columna. Ej: 1 2\")\n",
        "\n",
        "def printMatriz():\n",
        "  for i in range(3):\n",
        "    print(\"|\",*square[i],\"|\")\n",
        "\n",
        "printMatriz()\n",
        "\n",
        "def checkTriqui():\n",
        "  for i in range(3):\n",
        "    if np.all(square[i]==\"X\") or np.all(square[:,i]==\"X\") or np.all(square.diagonal()==\"X\") or np.all(np.flip(square,1).diagonal()==\"X\"):\n",
        "      print(\"Gano la X\")\n",
        "      return True\n",
        "    elif np.all(square[i]==\"O\") or np.all(square[:,i]==\"O\") or np.all(square.diagonal()==\"O\") or np.all(np.flip(square,1).diagonal()==\"O\"):\n",
        "      print(\"Gano la O\")\n",
        "      return True\n",
        "\n",
        "for i in range(np.size(square)):\n",
        "  if checkTriqui():\n",
        "    break\n",
        "  if i % 2 == 0:\n",
        "    mark = \"X\"\n",
        "  else:\n",
        "    mark = \"O\"\n",
        "  n = input(\"En qué posición va a poner su marca: \\n\")\n",
        "  pos = np.array(n.split()).astype(int)-1\n",
        "  if (0<=pos[0]<=2 and 0<=pos[1]<=2 and square[pos[0]][pos[1]]==\" \"):\n",
        "    square[pos[0]][pos[1]] = mark\n",
        "    printMatriz()\n",
        "  else:\n",
        "    while (pos[0]>2 or pos[1]>2 or pos[0]<0 or pos[1]>2 or square[pos[0]][pos[1]] != \" \"):\n",
        "      print(\"La posición ingresada ya esta ocupada o es invalida, intente nuevamente\")\n",
        "      n = input(\"En qué posición va a poner su marca: \\n\")\n",
        "      pos = np.array(n.split()).astype(int)-1\n",
        "    square[pos[0]][pos[1]] = mark\n",
        "    printMatriz()\n",
        "\n",
        "print(\"Juego terminado\")\n"
      ],
      "execution_count": null,
      "outputs": [
        {
          "output_type": "stream",
          "name": "stdout",
          "text": [
            "¡El primer jugador es la X y el segundo la O!\n",
            "Forma de escribir las posiciones: Fila Columna. Ej: 1 2\n",
            "|       |\n",
            "|       |\n",
            "|       |\n",
            "En qué posición va a poner su marca: \n",
            "1 1\n",
            "| X     |\n",
            "|       |\n",
            "|       |\n",
            "En qué posición va a poner su marca: \n",
            "1 2\n",
            "| X O   |\n",
            "|       |\n",
            "|       |\n",
            "En qué posición va a poner su marca: \n",
            "2 2\n",
            "| X O   |\n",
            "|   X   |\n",
            "|       |\n",
            "En qué posición va a poner su marca: \n",
            "1 4\n",
            "La posición ingresada ya esta ocupada o es invalida, intente nuevamente\n",
            "En qué posición va a poner su marca: \n",
            "1 1\n",
            "La posición ingresada ya esta ocupada o es invalida, intente nuevamente\n",
            "En qué posición va a poner su marca: \n",
            "2 3\n",
            "| X O   |\n",
            "|   X O |\n",
            "|       |\n",
            "En qué posición va a poner su marca: \n",
            "3 3\n",
            "| X O   |\n",
            "|   X O |\n",
            "|     X |\n",
            "Gano la X\n",
            "Juego terminado\n"
          ]
        }
      ]
    },
    {
      "cell_type": "markdown",
      "metadata": {
        "id": "oKfWlZyyKEHa"
      },
      "source": [
        "###Pruba flip() y diagonal()"
      ]
    },
    {
      "cell_type": "code",
      "metadata": {
        "colab": {
          "base_uri": "https://localhost:8080/"
        },
        "id": "5MY-JDFeGppM",
        "outputId": "982e0e28-f276-4aca-9166-47d8301e2f9a"
      },
      "source": [
        "hl = np.arange(11,36).reshape(5,5)\n",
        "print(hl)\n",
        "h = np.flip(hl,1)\n",
        "print(h.diagonal())"
      ],
      "execution_count": null,
      "outputs": [
        {
          "output_type": "stream",
          "name": "stdout",
          "text": [
            "[[11 12 13 14 15]\n",
            " [16 17 18 19 20]\n",
            " [21 22 23 24 25]\n",
            " [26 27 28 29 30]\n",
            " [31 32 33 34 35]]\n",
            "[15 19 23 27 31]\n"
          ]
        }
      ]
    },
    {
      "cell_type": "code",
      "metadata": {
        "colab": {
          "base_uri": "https://localhost:8080/"
        },
        "id": "7vKct02sUBcK",
        "outputId": "7f2737ad-abde-4c8a-ceb0-4f4e95beff2d"
      },
      "source": [
        "x = 5\n",
        "y = x\n",
        "z = y\n",
        "if (x and y and z)==5:\n",
        "  print(\"Funciona\")"
      ],
      "execution_count": null,
      "outputs": [
        {
          "output_type": "stream",
          "name": "stdout",
          "text": [
            "Funciona\n"
          ]
        }
      ]
    }
  ]
}